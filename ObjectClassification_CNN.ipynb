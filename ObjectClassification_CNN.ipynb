{
 "cells": [
  {
   "cell_type": "code",
   "execution_count": 1,
   "id": "superior-forestry",
   "metadata": {},
   "outputs": [],
   "source": [
    "import os\n",
    "root_dir = os.getcwd()"
   ]
  },
  {
   "cell_type": "code",
   "execution_count": 2,
   "id": "encouraging-paint",
   "metadata": {},
   "outputs": [
    {
     "name": "stdout",
     "output_type": "stream",
     "text": [
      "Collecting tensorflow==2.9.1\n",
      "  Using cached tensorflow-2.9.1-cp37-cp37m-win_amd64.whl (444.0 MB)\n",
      "Requirement already satisfied: matplotlib==3.3.2 in c:\\users\\mjvat\\anaconda3\\lib\\site-packages (from -r requirements.txt (line 2)) (3.3.2)\n",
      "Requirement already satisfied: split-folders==0.5.1 in c:\\users\\mjvat\\anaconda3\\lib\\site-packages (from -r requirements.txt (line 3)) (0.5.1)\n",
      "Requirement already satisfied: sklearn==0.0 in c:\\users\\mjvat\\anaconda3\\lib\\site-packages (from -r requirements.txt (line 4)) (0.0)\n",
      "Requirement already satisfied: seaborn==0.11.1 in c:\\users\\mjvat\\anaconda3\\lib\\site-packages (from -r requirements.txt (line 5)) (0.11.1)\n",
      "Requirement already satisfied: requests==2.25.1 in c:\\users\\mjvat\\anaconda3\\lib\\site-packages (from -r requirements.txt (line 6)) (2.25.1)\n",
      "Requirement already satisfied: pandas==1.3.5 in c:\\users\\mjvat\\appdata\\roaming\\python\\python37\\site-packages (from -r requirements.txt (line 7)) (1.3.5)\n",
      "Requirement already satisfied: typing-extensions>=3.6.6 in c:\\users\\mjvat\\anaconda3\\lib\\site-packages (from tensorflow==2.9.1->-r requirements.txt (line 1)) (3.7.4.3)\n",
      "Requirement already satisfied: protobuf<3.20,>=3.9.2 in c:\\users\\mjvat\\anaconda3\\lib\\site-packages (from tensorflow==2.9.1->-r requirements.txt (line 1)) (3.14.0)\n",
      "Requirement already satisfied: wrapt>=1.11.0 in c:\\users\\mjvat\\anaconda3\\lib\\site-packages (from tensorflow==2.9.1->-r requirements.txt (line 1)) (1.11.2)\n",
      "Requirement already satisfied: termcolor>=1.1.0 in c:\\users\\mjvat\\anaconda3\\lib\\site-packages (from tensorflow==2.9.1->-r requirements.txt (line 1)) (1.1.0)\n",
      "Collecting tensorboard<2.10,>=2.9\n",
      "  Using cached tensorboard-2.9.1-py3-none-any.whl (5.8 MB)\n",
      "Requirement already satisfied: tensorflow-io-gcs-filesystem>=0.23.1 in c:\\users\\mjvat\\appdata\\roaming\\python\\python37\\site-packages (from tensorflow==2.9.1->-r requirements.txt (line 1)) (0.26.0)\n",
      "Requirement already satisfied: flatbuffers<2,>=1.12 in c:\\users\\mjvat\\appdata\\roaming\\python\\python37\\site-packages (from tensorflow==2.9.1->-r requirements.txt (line 1)) (1.12)\n",
      "Requirement already satisfied: six>=1.12.0 in c:\\users\\mjvat\\anaconda3\\lib\\site-packages (from tensorflow==2.9.1->-r requirements.txt (line 1)) (1.15.0)\n",
      "Requirement already satisfied: libclang>=13.0.0 in c:\\users\\mjvat\\appdata\\roaming\\python\\python37\\site-packages (from tensorflow==2.9.1->-r requirements.txt (line 1)) (14.0.1)\n",
      "Collecting tensorflow-estimator<2.10.0,>=2.9.0rc0\n",
      "  Using cached tensorflow_estimator-2.9.0-py2.py3-none-any.whl (438 kB)\n",
      "Requirement already satisfied: gast<=0.4.0,>=0.2.1 in c:\\users\\mjvat\\anaconda3\\lib\\site-packages (from tensorflow==2.9.1->-r requirements.txt (line 1)) (0.4.0)\n",
      "Requirement already satisfied: packaging in c:\\users\\mjvat\\anaconda3\\lib\\site-packages (from tensorflow==2.9.1->-r requirements.txt (line 1)) (20.9)\n",
      "Requirement already satisfied: grpcio<2.0,>=1.24.3 in c:\\users\\mjvat\\anaconda3\\lib\\site-packages (from tensorflow==2.9.1->-r requirements.txt (line 1)) (1.31.0)\n",
      "Requirement already satisfied: keras<2.10.0,>=2.9.0rc0 in c:\\users\\mjvat\\appdata\\roaming\\python\\python37\\site-packages (from tensorflow==2.9.1->-r requirements.txt (line 1)) (2.9.0)\n",
      "Requirement already satisfied: astunparse>=1.6.0 in c:\\users\\mjvat\\appdata\\roaming\\python\\python37\\site-packages (from tensorflow==2.9.1->-r requirements.txt (line 1)) (1.6.3)\n",
      "Requirement already satisfied: google-pasta>=0.1.1 in c:\\users\\mjvat\\anaconda3\\lib\\site-packages (from tensorflow==2.9.1->-r requirements.txt (line 1)) (0.2.0)\n",
      "Requirement already satisfied: setuptools in c:\\users\\mjvat\\anaconda3\\lib\\site-packages (from tensorflow==2.9.1->-r requirements.txt (line 1)) (52.0.0.post20210125)\n",
      "Requirement already satisfied: absl-py>=1.0.0 in c:\\users\\mjvat\\appdata\\roaming\\python\\python37\\site-packages (from tensorflow==2.9.1->-r requirements.txt (line 1)) (1.1.0)\n",
      "Requirement already satisfied: h5py>=2.9.0 in c:\\users\\mjvat\\appdata\\roaming\\python\\python37\\site-packages (from tensorflow==2.9.1->-r requirements.txt (line 1)) (3.7.0)\n",
      "Requirement already satisfied: numpy>=1.20 in c:\\users\\mjvat\\anaconda3\\lib\\site-packages (from tensorflow==2.9.1->-r requirements.txt (line 1)) (1.20.1)\n",
      "Requirement already satisfied: keras-preprocessing>=1.1.1 in c:\\users\\mjvat\\anaconda3\\lib\\site-packages (from tensorflow==2.9.1->-r requirements.txt (line 1)) (1.1.2)\n",
      "Requirement already satisfied: opt-einsum>=2.3.2 in c:\\users\\mjvat\\appdata\\roaming\\python\\python37\\site-packages (from tensorflow==2.9.1->-r requirements.txt (line 1)) (3.3.0)\n",
      "Requirement already satisfied: cycler>=0.10 in c:\\users\\mjvat\\anaconda3\\lib\\site-packages (from matplotlib==3.3.2->-r requirements.txt (line 2)) (0.10.0)\n",
      "Requirement already satisfied: pillow>=6.2.0 in c:\\users\\mjvat\\anaconda3\\lib\\site-packages (from matplotlib==3.3.2->-r requirements.txt (line 2)) (8.1.0)\n",
      "Requirement already satisfied: certifi>=2020.06.20 in c:\\users\\mjvat\\anaconda3\\lib\\site-packages (from matplotlib==3.3.2->-r requirements.txt (line 2)) (2022.5.18.1)\n",
      "Requirement already satisfied: kiwisolver>=1.0.1 in c:\\users\\mjvat\\anaconda3\\lib\\site-packages (from matplotlib==3.3.2->-r requirements.txt (line 2)) (1.3.1)\n",
      "Requirement already satisfied: python-dateutil>=2.1 in c:\\users\\mjvat\\anaconda3\\lib\\site-packages (from matplotlib==3.3.2->-r requirements.txt (line 2)) (2.8.1)\n",
      "Requirement already satisfied: pyparsing!=2.0.4,!=2.1.2,!=2.1.6,>=2.0.3 in c:\\users\\mjvat\\anaconda3\\lib\\site-packages (from matplotlib==3.3.2->-r requirements.txt (line 2)) (2.4.7)\n",
      "Requirement already satisfied: scikit-learn in c:\\users\\mjvat\\anaconda3\\lib\\site-packages (from sklearn==0.0->-r requirements.txt (line 4)) (0.23.2)\n",
      "Requirement already satisfied: scipy>=1.0 in c:\\users\\mjvat\\anaconda3\\lib\\site-packages (from seaborn==0.11.1->-r requirements.txt (line 5)) (1.6.0)\n",
      "Requirement already satisfied: urllib3<1.27,>=1.21.1 in c:\\users\\mjvat\\anaconda3\\lib\\site-packages (from requests==2.25.1->-r requirements.txt (line 6)) (1.26.3)\n",
      "Requirement already satisfied: chardet<5,>=3.0.2 in c:\\users\\mjvat\\anaconda3\\lib\\site-packages (from requests==2.25.1->-r requirements.txt (line 6)) (4.0.0)\n",
      "Requirement already satisfied: idna<3,>=2.5 in c:\\users\\mjvat\\anaconda3\\lib\\site-packages (from requests==2.25.1->-r requirements.txt (line 6)) (2.10)\n",
      "Requirement already satisfied: pytz>=2017.3 in c:\\users\\mjvat\\anaconda3\\lib\\site-packages (from pandas==1.3.5->-r requirements.txt (line 7)) (2021.1)\n",
      "Requirement already satisfied: wheel<1.0,>=0.23.0 in c:\\users\\mjvat\\anaconda3\\lib\\site-packages (from astunparse>=1.6.0->tensorflow==2.9.1->-r requirements.txt (line 1)) (0.36.2)\n",
      "Requirement already satisfied: google-auth-oauthlib<0.5,>=0.4.1 in c:\\users\\mjvat\\appdata\\roaming\\python\\python37\\site-packages (from tensorboard<2.10,>=2.9->tensorflow==2.9.1->-r requirements.txt (line 1)) (0.4.6)\n",
      "Requirement already satisfied: tensorboard-data-server<0.7.0,>=0.6.0 in c:\\users\\mjvat\\appdata\\roaming\\python\\python37\\site-packages (from tensorboard<2.10,>=2.9->tensorflow==2.9.1->-r requirements.txt (line 1)) (0.6.1)\n",
      "Requirement already satisfied: tensorboard-plugin-wit>=1.6.0 in c:\\users\\mjvat\\appdata\\roaming\\python\\python37\\site-packages (from tensorboard<2.10,>=2.9->tensorflow==2.9.1->-r requirements.txt (line 1)) (1.8.1)\n",
      "Requirement already satisfied: google-auth<3,>=1.6.3 in c:\\users\\mjvat\\appdata\\roaming\\python\\python37\\site-packages (from tensorboard<2.10,>=2.9->tensorflow==2.9.1->-r requirements.txt (line 1)) (2.7.0)\n",
      "Requirement already satisfied: werkzeug>=1.0.1 in c:\\users\\mjvat\\anaconda3\\lib\\site-packages (from tensorboard<2.10,>=2.9->tensorflow==2.9.1->-r requirements.txt (line 1)) (1.0.1)\n",
      "Requirement already satisfied: markdown>=2.6.8 in c:\\users\\mjvat\\anaconda3\\lib\\site-packages (from tensorboard<2.10,>=2.9->tensorflow==2.9.1->-r requirements.txt (line 1)) (3.3.3)\n",
      "Requirement already satisfied: threadpoolctl>=2.0.0 in c:\\users\\mjvat\\anaconda3\\lib\\site-packages (from scikit-learn->sklearn==0.0->-r requirements.txt (line 4)) (2.1.0)\n",
      "Requirement already satisfied: joblib>=0.11 in c:\\users\\mjvat\\anaconda3\\lib\\site-packages (from scikit-learn->sklearn==0.0->-r requirements.txt (line 4)) (1.0.0)\n",
      "Requirement already satisfied: cachetools<6.0,>=2.0.0 in c:\\users\\mjvat\\appdata\\roaming\\python\\python37\\site-packages (from google-auth<3,>=1.6.3->tensorboard<2.10,>=2.9->tensorflow==2.9.1->-r requirements.txt (line 1)) (5.2.0)\n",
      "Requirement already satisfied: rsa<5,>=3.1.4 in c:\\users\\mjvat\\appdata\\roaming\\python\\python37\\site-packages (from google-auth<3,>=1.6.3->tensorboard<2.10,>=2.9->tensorflow==2.9.1->-r requirements.txt (line 1)) (4.8)\n",
      "Requirement already satisfied: pyasn1-modules>=0.2.1 in c:\\users\\mjvat\\appdata\\roaming\\python\\python37\\site-packages (from google-auth<3,>=1.6.3->tensorboard<2.10,>=2.9->tensorflow==2.9.1->-r requirements.txt (line 1)) (0.2.8)\n",
      "Requirement already satisfied: requests-oauthlib>=0.7.0 in c:\\users\\mjvat\\appdata\\roaming\\python\\python37\\site-packages (from google-auth-oauthlib<0.5,>=0.4.1->tensorboard<2.10,>=2.9->tensorflow==2.9.1->-r requirements.txt (line 1)) (1.3.1)\n",
      "Requirement already satisfied: importlib-metadata in c:\\users\\mjvat\\anaconda3\\lib\\site-packages (from markdown>=2.6.8->tensorboard<2.10,>=2.9->tensorflow==2.9.1->-r requirements.txt (line 1)) (2.0.0)\n",
      "Requirement already satisfied: pyasn1<0.5.0,>=0.4.6 in c:\\users\\mjvat\\appdata\\roaming\\python\\python37\\site-packages (from pyasn1-modules>=0.2.1->google-auth<3,>=1.6.3->tensorboard<2.10,>=2.9->tensorflow==2.9.1->-r requirements.txt (line 1)) (0.4.8)\n",
      "Requirement already satisfied: oauthlib>=3.0.0 in c:\\users\\mjvat\\appdata\\roaming\\python\\python37\\site-packages (from requests-oauthlib>=0.7.0->google-auth-oauthlib<0.5,>=0.4.1->tensorboard<2.10,>=2.9->tensorflow==2.9.1->-r requirements.txt (line 1)) (3.2.0)\n",
      "Requirement already satisfied: zipp>=0.5 in c:\\users\\mjvat\\anaconda3\\lib\\site-packages (from importlib-metadata->markdown>=2.6.8->tensorboard<2.10,>=2.9->tensorflow==2.9.1->-r requirements.txt (line 1)) (3.4.0)\n",
      "Installing collected packages: tensorflow-estimator, tensorboard, tensorflow\n",
      "  Attempting uninstall: tensorflow-estimator\n",
      "    Found existing installation: tensorflow-estimator 1.14.0\n",
      "    Uninstalling tensorflow-estimator-1.14.0:\n",
      "      Successfully uninstalled tensorflow-estimator-1.14.0\n",
      "  Attempting uninstall: tensorboard\n",
      "    Found existing installation: tensorboard 1.14.0\n",
      "    Uninstalling tensorboard-1.14.0:\n",
      "      Successfully uninstalled tensorboard-1.14.0\n",
      "  Attempting uninstall: tensorflow\n",
      "    Found existing installation: tensorflow 1.14.0\n",
      "    Uninstalling tensorflow-1.14.0:\n",
      "      Successfully uninstalled tensorflow-1.14.0\n",
      "Successfully installed tensorboard-2.9.1 tensorflow-2.9.1 tensorflow-estimator-2.9.0\n",
      "Note: you may need to restart the kernel to use updated packages.\n"
     ]
    }
   ],
   "source": [
    "pip install -r requirements.txt"
   ]
  },
  {
   "cell_type": "code",
   "execution_count": 3,
   "id": "e44d2329",
   "metadata": {},
   "outputs": [],
   "source": [
    "# -*- coding: utf-8 -*-\n",
    "\"\"\"\n",
    "Created on Sat Jun 4 13:47:35 2022\n",
    "\n",
    "@author: mjvat\n",
    "\"\"\"\n",
    "\n",
    "import os\n",
    "os.environ['TF_CPP_MIN_LOG_LEVEL'] = '3'\n",
    "import tensorflow as tf\n",
    "import matplotlib.pyplot as plt\n",
    "import numpy as np\n",
    "import splitfolders\n",
    "from tensorflow.keras.preprocessing.image import ImageDataGenerator\n",
    "from sklearn.metrics import confusion_matrix, classification_report\n",
    "import seaborn as sns\n",
    "import requests\n",
    "import zipfile\n",
    "from io import BytesIO\n",
    "import warnings\n",
    "warnings.filterwarnings('ignore')"
   ]
  },
  {
   "cell_type": "code",
   "execution_count": 4,
   "id": "86f68a0b",
   "metadata": {},
   "outputs": [],
   "source": [
    "class ANN():\n",
    "    \n",
    "    def __init__(self, my_path=None, img_path=None, training_path=None, \\\n",
    "                 test_path=None, train_generator=None, test_generator=None, \\\n",
    "                 train_images=None, test_images=None, inputs=None, outputs=None, \\\n",
    "                 x=None, model=None, history=None, accuracy=None, preds=None, \\\n",
    "                 cm=None, clr=None, data=None, zipfile=None):\n",
    "        \n",
    "        self.my_path = os.getcwd()\n",
    "        self.img_path = 'https://github.com/mjvatt/MS-Artificial-Intelligence-and-Machine-Learning/raw/main/image_data.zip'\n",
    "        \n",
    "        self.training_path = self.my_path + '/training_test_data/train/'\n",
    "        self.test_path = self.my_path + '/training_test_data/test/'\n",
    "        \n",
    "        self.data = 'image_data'\n",
    "        self.zipfile = zipfile\n",
    "        \n",
    "        self.train_generator = train_generator\n",
    "        self.test_generator = test_generator\n",
    "        \n",
    "        self.train_images = train_images \n",
    "        self.test_images = test_images \n",
    "        \n",
    "        self.inputs = inputs\n",
    "        self.outputs = outputs\n",
    "        \n",
    "        self.x = x\n",
    "        self.model = model\n",
    "        self.history = history\n",
    "        \n",
    "        self.accuracy = accuracy\n",
    "        self.preds = preds\n",
    "        \n",
    "        self.cm = cm\n",
    "        self.clr = clr\n",
    "    \n",
    "    def get_data(self):\n",
    "        \n",
    "        # self.data = wget.download(self.img_path)\n",
    "        print('Downloading started')\n",
    "        # print(self.img_path)\n",
    "         \n",
    "        # Split URL to get the file name\n",
    "        filename = self.img_path.split('/')[-1]\n",
    "         \n",
    "        # Downloading the file by sending the request to the URL\n",
    "        req = requests.get(self.img_path)\n",
    "        \n",
    "        # Writing the file to the local file system\n",
    "        with open(filename,'wb') as output_file:\n",
    "            output_file.write(req.content)\n",
    "        print('Downloading Completed')\n",
    "        \n",
    "        # extracting the zip file contents\n",
    "        self.zipfile = zipfile.ZipFile(BytesIO(req.content))\n",
    "        self.zipfile.extractall(self.my_path)    \n",
    "\n",
    "    def splitFolders(self):\n",
    "    \n",
    "        splitfolders.ratio(self.data, output='training_test_data', \\\n",
    "                           seed=1337, ratio=(0.8, 0.0, 0.2))\n",
    "            \n",
    "    def trainGen(self):\n",
    "        \n",
    "        self.train_generator = ImageDataGenerator(\n",
    "                                    rescale=1./255,\n",
    "                                    horizontal_flip=True,\n",
    "                                    vertical_flip=True,\n",
    "                                    rotation_range=90,\n",
    "                                    height_shift_range=0.2,\n",
    "                                    width_shift_range=0.2,\n",
    "                                    zoom_range=0.2\n",
    "                                )\n",
    "        \n",
    "    def testGen(self):\n",
    "        \n",
    "        self.test_generator = ImageDataGenerator(\n",
    "                                    rescale=1./255,\n",
    "                                )\n",
    "\n",
    "    def trainImg(self):\n",
    "        \n",
    "        self.train_images = self.train_generator.flow_from_directory(\n",
    "                                    self.training_path,\n",
    "                                    target_size=(150, 150),\n",
    "                                    color_mode='rgb',\n",
    "                                    class_mode='categorical',\n",
    "                                    batch_size=16,\n",
    "                                    shuffle=True,\n",
    "                                    seed=42\n",
    "                                )\n",
    "        \n",
    "    def testImg(self):\n",
    "        \n",
    "        self.test_images = self.test_generator.flow_from_directory(\n",
    "                                    self.test_path,\n",
    "                                    target_size=(150, 150),\n",
    "                                    color_mode='rgb',\n",
    "                                    class_mode='categorical',\n",
    "                                    batch_size=16,\n",
    "                                    shuffle=False,\n",
    "                                    seed=42,\n",
    "                                )\n",
    "        \n",
    "    def xInputs(self):\n",
    "        \n",
    "        self.inputs = tf.keras.Input(shape=(150, 150, 3))\n",
    "        self.x = tf.keras.layers.Conv2D(filters=32, kernel_size=(3, 3), activation='relu')(self.inputs)\n",
    "        self.x = tf.keras.layers.MaxPool2D()(self.x)\n",
    "        self.x = tf.keras.layers.Conv2D(filters=64, kernel_size=(3, 3), activation='relu')(self.inputs)\n",
    "        self.x = tf.keras.layers.MaxPool2D()(self.x)\n",
    "        self.x = tf.keras.layers.Conv2D(filters=64, kernel_size=(3, 3), activation='relu')(self.inputs)\n",
    "        self.x = tf.keras.layers.MaxPool2D()(self.x)\n",
    "        self.x = tf.keras.layers.Conv2D(filters=128, kernel_size=(3, 3), activation='relu')(self.inputs)\n",
    "        self.x = tf.keras.layers.MaxPool2D()(self.x)\n",
    "        self.x = tf.keras.layers.Flatten()(self.x)\n",
    "        self.x = tf.keras.layers.Dropout(0.4)(self.x)\n",
    "        self.x = tf.keras.layers.Dense(512, activation='relu')(self.x)\n",
    "        \n",
    "    def modelOutputs(self):\n",
    "        \n",
    "        self.outputs = tf.keras.layers.Dense(5, activation='softmax')(self.x)\n",
    "        \n",
    "    def getModel(self):\n",
    "        \n",
    "        self.model = tf.keras.Model(inputs=self.inputs, outputs=self.outputs)\n",
    "        \n",
    "        self.model.compile(\n",
    "            optimizer='adam',\n",
    "            loss='categorical_crossentropy',\n",
    "            metrics=['accuracy']\n",
    "        )\n",
    "    \n",
    "    def fitModel(self):\n",
    "        \n",
    "        self.history = self.model.fit(\n",
    "                            self.train_images,\n",
    "                            epochs=10,\n",
    "                            callbacks=[\n",
    "                                tf.keras.callbacks.EarlyStopping(\n",
    "                                    monitor='loss',\n",
    "                                    patience=5,\n",
    "                                    restore_best_weights=True\n",
    "                                )\n",
    "                            ]\n",
    "                        )\n",
    "        \n",
    "    def evalModel(self):\n",
    "        \n",
    "        self.accuracy = self.model.evaluate(self.test_images, verbose=0)[1]\n",
    "        print(\"Accuracy: {:.2f}%\".format(self.accuracy * 100))\n",
    "        \n",
    "        self.preds = np.argmax(self.model.predict(self.test_images), axis=1)\n",
    "        \n",
    "    def confusionMatrix(self):\n",
    "        \n",
    "        self.cm = confusion_matrix(self.test_images.labels, self.preds, labels=[0, 1, 2, 3, 4])\n",
    "        self.clr = classification_report(self.test_images.labels, self.preds, labels=[0, 1, 2, 3, 4], \\\n",
    "                            target_names=[\"Cones\", \"Parking\", \"Speed Limit\", \"Stop Sign\", \"Street Light\"])\n",
    "            \n",
    "    def plotResults(self):\n",
    "        \n",
    "        plt.figure(figsize=(8, 8))\n",
    "        sns.heatmap(self.cm, annot=True, fmt='g', vmin=0, cmap='Blues', cbar=False)\n",
    "        plt.xticks(ticks=[0.5, 1.5, 2.5, 3.5, 4.5], labels=[\"Cones\", \"Parking\", \"Speed Limit\", \"Stop Sign\", \"Street Light\"])\n",
    "        plt.yticks(ticks=[0.5, 1.5, 2.5, 3.5, 4.5], labels=[\"Cones\", \"Parking\", \"Speed Limit\", \"Stop Sign\", \"Street Light\"])\n",
    "        plt.xlabel(\"Predicted\")\n",
    "        plt.ylabel(\"Actual\")\n",
    "        plt.title(\"Confusion Matrix\")\n",
    "        \n",
    "        print(\"Classification Report:\\n----------------------\\n\", self.clr)"
   ]
  },
  {
   "cell_type": "code",
   "execution_count": 5,
   "id": "55dce82d",
   "metadata": {},
   "outputs": [],
   "source": [
    "if __name__ == '__main__':\n",
    "    \n",
    "    # Create ANN object\n",
    "    my_ann = ANN()"
   ]
  },
  {
   "cell_type": "code",
   "execution_count": 6,
   "id": "43669159",
   "metadata": {},
   "outputs": [
    {
     "name": "stdout",
     "output_type": "stream",
     "text": [
      "Downloading started\n",
      "Downloading Completed\n"
     ]
    }
   ],
   "source": [
    "    # Get Data grom GitHub\n",
    "    my_ann.get_data()"
   ]
  },
  {
   "cell_type": "code",
   "execution_count": 7,
   "id": "1c082bbc",
   "metadata": {},
   "outputs": [
    {
     "name": "stderr",
     "output_type": "stream",
     "text": [
      "Copying files: 1000 files [00:01, 717.20 files/s]\n"
     ]
    }
   ],
   "source": [
    "    # Split image folders into training and test folders (80% and 20% respectively)\n",
    "    # Had to limit the images to 1000 files to help with GitHub issues and get under 25MB for a zip file\n",
    "    my_ann.splitFolders()   "
   ]
  },
  {
   "cell_type": "code",
   "execution_count": 8,
   "id": "555e62cc",
   "metadata": {},
   "outputs": [],
   "source": [
    "    # Create the training and test generators for images\n",
    "    my_ann.trainGen()\n",
    "    my_ann.testGen()"
   ]
  },
  {
   "cell_type": "code",
   "execution_count": 9,
   "id": "8ec688c4",
   "metadata": {},
   "outputs": [
    {
     "name": "stdout",
     "output_type": "stream",
     "text": [
      "Found 800 images belonging to 5 classes.\n",
      "Found 200 images belonging to 5 classes.\n"
     ]
    }
   ],
   "source": [
    "    # Create the training and test image data sets\n",
    "    my_ann.trainImg()\n",
    "    my_ann.testImg()"
   ]
  },
  {
   "cell_type": "code",
   "execution_count": 10,
   "id": "78db2c62",
   "metadata": {},
   "outputs": [],
   "source": [
    "    # Create the inputs for the model\n",
    "    my_ann.xInputs()"
   ]
  },
  {
   "cell_type": "code",
   "execution_count": 11,
   "id": "b6391b78",
   "metadata": {},
   "outputs": [],
   "source": [
    "    # Create the outputs for the model\n",
    "    my_ann.modelOutputs()"
   ]
  },
  {
   "cell_type": "code",
   "execution_count": 12,
   "id": "aa3af697",
   "metadata": {},
   "outputs": [],
   "source": [
    "    # Create the model\n",
    "    my_ann.getModel()"
   ]
  },
  {
   "cell_type": "code",
   "execution_count": 13,
   "id": "9fdc60a7",
   "metadata": {},
   "outputs": [
    {
     "name": "stdout",
     "output_type": "stream",
     "text": [
      "Epoch 1/10\n",
      "50/50 [==============================] - 8s 105ms/step - loss: 12.9852 - accuracy: 0.4850\n",
      "Epoch 2/10\n",
      "50/50 [==============================] - 5s 93ms/step - loss: 0.3559 - accuracy: 0.8813\n",
      "Epoch 3/10\n",
      "50/50 [==============================] - 5s 92ms/step - loss: 0.2444 - accuracy: 0.9162\n",
      "Epoch 4/10\n",
      "50/50 [==============================] - 5s 92ms/step - loss: 0.0765 - accuracy: 0.9837\n",
      "Epoch 5/10\n",
      "50/50 [==============================] - 5s 92ms/step - loss: 0.0584 - accuracy: 0.9787\n",
      "Epoch 6/10\n",
      "50/50 [==============================] - 5s 93ms/step - loss: 0.0239 - accuracy: 0.9975\n",
      "Epoch 7/10\n",
      "50/50 [==============================] - 5s 92ms/step - loss: 0.0078 - accuracy: 1.0000\n",
      "Epoch 8/10\n",
      "50/50 [==============================] - 5s 93ms/step - loss: 0.0066 - accuracy: 0.9975\n",
      "Epoch 9/10\n",
      "50/50 [==============================] - 4s 79ms/step - loss: 0.0168 - accuracy: 0.9937\n",
      "Epoch 10/10\n",
      "50/50 [==============================] - 4s 79ms/step - loss: 0.0080 - accuracy: 1.0000\n"
     ]
    }
   ],
   "source": [
    "    # Fit the model\n",
    "    # Only chose 10 Epochs as a proof-of-concept and for time considerations\n",
    "    my_ann.fitModel()"
   ]
  },
  {
   "cell_type": "code",
   "execution_count": 14,
   "id": "4bdcc4e7",
   "metadata": {},
   "outputs": [
    {
     "name": "stdout",
     "output_type": "stream",
     "text": [
      "Accuracy: 100.00%\n",
      "13/13 [==============================] - 0s 21ms/step\n"
     ]
    }
   ],
   "source": [
    "    # Evaluate the model's performance\n",
    "    my_ann.evalModel()"
   ]
  },
  {
   "cell_type": "code",
   "execution_count": 15,
   "id": "6bdcda8e",
   "metadata": {},
   "outputs": [],
   "source": [
    "    # Create a confusion matrix from the model results\n",
    "    my_ann.confusionMatrix()"
   ]
  },
  {
   "cell_type": "code",
   "execution_count": 16,
   "id": "stupid-native",
   "metadata": {},
   "outputs": [
    {
     "name": "stdout",
     "output_type": "stream",
     "text": [
      "Classification Report:\n",
      "----------------------\n",
      "               precision    recall  f1-score   support\n",
      "\n",
      "       Cones       1.00      1.00      1.00        40\n",
      "     Parking       1.00      1.00      1.00        40\n",
      " Speed Limit       1.00      1.00      1.00        40\n",
      "   Stop Sign       1.00      1.00      1.00        40\n",
      "Street Light       1.00      1.00      1.00        40\n",
      "\n",
      "    accuracy                           1.00       200\n",
      "   macro avg       1.00      1.00      1.00       200\n",
      "weighted avg       1.00      1.00      1.00       200\n",
      "\n"
     ]
    },
    {
     "data": {
      "image/png": "[encoded data removed]",
      "text/plain": [
       "<Figure size 576x576 with 1 Axes>"
      ]
     },
     "metadata": {
      "needs_background": "light"
     },
     "output_type": "display_data"
    }
   ],
   "source": [
    "    # Plot the confusion matrix results\n",
    "    my_ann.plotResults()"
   ]
  },
  {
   "cell_type": "code",
   "execution_count": null,
   "id": "american-understanding",
   "metadata": {},
   "outputs": [],
   "source": []
  }
 ],
 "metadata": {
  "kernelspec": {
   "display_name": "Python 3",
   "language": "python",
   "name": "python3"
  },
  "language_info": {
   "codemirror_mode": {
    "name": "ipython",
    "version": 3
   },
   "file_extension": ".py",
   "mimetype": "text/x-python",
   "name": "python",
   "nbconvert_exporter": "python",
   "pygments_lexer": "ipython3",
   "version": "3.7.9"
  }
 },
 "nbformat": 4,
 "nbformat_minor": 5
}
